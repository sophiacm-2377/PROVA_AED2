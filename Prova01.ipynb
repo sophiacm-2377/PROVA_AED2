{
 "cells": [
  {
   "cell_type": "markdown",
   "id": "562b365c-ad3b-4590-94c3-136d160c7071",
   "metadata": {},
   "source": [
    "### FUNÇÃO FINAL:"
   ]
  },
  {
   "cell_type": "code",
   "execution_count": 13,
   "id": "31cc0bdf-d06a-4416-a25f-4ce06a6da8e2",
   "metadata": {},
   "outputs": [
    {
     "name": "stdout",
     "output_type": "stream",
     "text": [
      "3\n"
     ]
    }
   ],
   "source": [
    "class No:\n",
    "    def __init__(self, valor):\n",
    "        self.valor = valor\n",
    "        self.proximo = None  \n",
    "class ListaEncadeada:\n",
    "    def __init__(self):\n",
    "        self.inicio = None\n",
    "    def inserir(self, valor):\n",
    "        novo_no = No(valor)\n",
    "        if self.inicio is None:\n",
    "            self.inicio = novo_no\n",
    "        else:\n",
    "            atual = self.inicio\n",
    "            while atual.proximo:\n",
    "                atual = atual.proximo\n",
    "            atual.proximo = novo_no\n",
    "    def contar(self):\n",
    "        contador = 0\n",
    "        atual = self.inicio\n",
    "        while atual:          \n",
    "            contador += 1\n",
    "            atual = atual.proximo\n",
    "        return contador\n",
    "lista = ListaEncadeada()\n",
    "lista.inserir(5)\n",
    "lista.inserir(15)\n",
    "lista.inserir(25)\n",
    "print(lista.contar())"
   ]
  },
  {
   "cell_type": "markdown",
   "id": "ab541d47-f614-4f03-ac52-baa5ad3c6240",
   "metadata": {},
   "source": [
    "### FUNÇÃO INICIAL:"
   ]
  },
  {
   "cell_type": "code",
   "execution_count": null,
   "id": "86c8cf18-1f0e-49ef-99d6-37715da17550",
   "metadata": {},
   "outputs": [],
   "source": [
    "# implemtente uma função que conte o numero de lementos em uma lista encadeada. A funçãõ deve percorrer e retornar o total de elementos:\n",
    "# a lista deve armazenar números inteiros\n",
    "# implemente uma função que percorre a lsita e conta quantos elementos estão inseridos \n",
    "# leve em consideração a implementação a seguir\n",
    "\n",
    "# INSERINDO NÚMEROS NA LSITA ENCADEADA\n",
    "INSERIR(5)\n",
    "INSERIR(15)\n",
    "INSERIR(25)\n",
    "\n",
    "# Contando o número de elementos:\n",
    "print(contar())     #saída esperada: 3 \n",
    "\n",
    "# implementação inicial \n",
    "class No:\n",
    "    def__init__(self, valor):\n",
    "        self.valor = valor\n",
    "        self.proximo = none \n",
    "class ListaEncadeada:\n",
    "    def __init__(self):\n",
    "        self.inicio = None \n",
    "    def inserir(self, valor):\n",
    "        novo_no = No(valor)\n",
    "        if self.inicio is None:\n",
    "            self.inicio = novo_no\n",
    "        else: \n",
    "            atual = self.inicio\n",
    "            while atual.proximo:\n",
    "                atual = atual.proximo\n",
    "            atual.proximo = novo_no\n",
    "    def contar(self):"
   ]
  }
 ],
 "metadata": {
  "kernelspec": {
   "display_name": "Python 3 (ipykernel)",
   "language": "python",
   "name": "python3"
  },
  "language_info": {
   "codemirror_mode": {
    "name": "ipython",
    "version": 3
   },
   "file_extension": ".py",
   "mimetype": "text/x-python",
   "name": "python",
   "nbconvert_exporter": "python",
   "pygments_lexer": "ipython3",
   "version": "3.13.5"
  }
 },
 "nbformat": 4,
 "nbformat_minor": 5
}
